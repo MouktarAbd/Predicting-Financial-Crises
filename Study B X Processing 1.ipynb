{
 "cells": [
  {
   "cell_type": "markdown",
   "metadata": {},
   "source": [
    "# Predicting Financial Crisis: Study B x Processing 1"
   ]
  },
  {
   "cell_type": "markdown",
   "metadata": {},
   "source": [
    "Using the Financial Crises dataset: characterize/describe the dataset and compare various classification models (e.g., Logistic regression, SVM, NN, classification trees/forests, ... ) in terms of their ability to correctly predict financial crises. Make sure to treat this as a real-time prediction problem: when predicting financial crises is a given year t, you can only use features from previous years t-s (with s>0), but no contemporaneous variables from the same year t. Compare the quality of your predictions using different criteria and validation methods."
   ]
  },
  {
   "cell_type": "code",
   "execution_count": 21,
   "metadata": {},
   "outputs": [],
   "source": [
    "import numpy as np\n",
    "import pandas as pd\n",
    "import matplotlib.pyplot as plt\n",
    "from matplotlib import style\n",
    "import seaborn as sns\n",
    "sns.set_style('whitegrid')\n",
    "from sklearn.model_selection import train_test_split, cross_val_predict, TimeSeriesSplit\n",
    "from sklearn.ensemble import RandomForestClassifier, ExtraTreesClassifier, BaggingClassifier, AdaBoostClassifier, GradientBoostingClassifier\n",
    "from sklearn.neighbors import KNeighborsClassifier\n",
    "from sklearn.tree import DecisionTreeClassifier\n",
    "from sklearn.discriminant_analysis import LinearDiscriminantAnalysis, QuadraticDiscriminantAnalysis\n",
    "from sklearn.naive_bayes import GaussianNB\n",
    "from xgboost import XGBClassifier\n",
    "from sklearn.linear_model import SGDClassifier\n",
    "from sklearn import svm\n",
    "from sklearn.preprocessing import LabelEncoder, MinMaxScaler, StandardScaler\n",
    "from sklearn import preprocessing\n",
    "from sklearn.metrics import precision_score, recall_score, f1_score, r2_score, mean_squared_error, confusion_matrix\n",
    "from sklearn.metrics import precision_recall_curve, roc_curve, roc_auc_score, average_precision_score\n",
    "from math import sqrt\n",
    "from sklearn.linear_model import LogisticRegression\n",
    "from sklearn.utils import resample\n",
    "from imblearn.over_sampling import SMOTE\n",
    "import warnings\n",
    "warnings.filterwarnings('ignore')\n",
    "%matplotlib inline"
   ]
  },
  {
   "cell_type": "code",
   "execution_count": 22,
   "metadata": {},
   "outputs": [],
   "source": [
    "df = pd.read_csv('FinancialCrises.csv')\n",
    "del df['govass']"
   ]
  },
  {
   "cell_type": "code",
   "execution_count": 23,
   "metadata": {},
   "outputs": [],
   "source": [
    "wars = np.concatenate((np.arange(1914,1920,1) , np.arange(1920,1926,1), np.arange(1939,1948,1)), axis=0)"
   ]
  },
  {
   "cell_type": "markdown",
   "metadata": {},
   "source": [
    "## Data Processing"
   ]
  },
  {
   "cell_type": "code",
   "execution_count": 24,
   "metadata": {},
   "outputs": [],
   "source": [
    "df1 = df.loc[df['country'] == 'DNK']\n",
    "df2 = df.loc[df['country'] == 'AUS']\n",
    "df3 = df.loc[df['country'] == 'JPN']\n",
    "df4 = df.loc[df['country'] == 'ESP']\n",
    "df5 = df.loc[df['country'] == 'GBR']\n",
    "df6 = df.loc[df['country'] == 'SWE']\n",
    "df7 = df.loc[df['country'] == 'FRA']\n",
    "df8 = df.loc[df['country'] == 'NOR']\n",
    "df9 = df.loc[df['country'] == 'USA']\n",
    "df10 = df.loc[df['country'] == 'ITA']\n",
    "df11 = df.loc[df['country'] == 'DEU']\n",
    "df12 = df.loc[df['country'] == 'CAN']\n",
    "df13 = df.loc[df['country'] == 'NLD']\n",
    "df14 = df.loc[df['country'] == 'CHE']"
   ]
  },
  {
   "cell_type": "code",
   "execution_count": 25,
   "metadata": {},
   "outputs": [],
   "source": [
    "def df_process(df):\n",
    "    df = df.dropna()\n",
    "    df = df.sort_values(by=['country', 'year'])\n",
    "    df['credit_growth'] = np.log(df['loans1']).diff() - np.log(df['cpi']).diff()\n",
    "    return df"
   ]
  },
  {
   "cell_type": "code",
   "execution_count": 26,
   "metadata": {},
   "outputs": [],
   "source": [
    "df1 = df_process(df1)\n",
    "df2 = df_process(df2)\n",
    "df3 = df_process(df3)\n",
    "df4 = df_process(df4)\n",
    "df5 = df_process(df5)\n",
    "df6 = df_process(df6)\n",
    "df7 = df_process(df7)\n",
    "df8 = df_process(df8)\n",
    "df9 = df_process(df9)\n",
    "df10 = df_process(df10)\n",
    "df11 = df_process(df11)\n",
    "df12 = df_process(df12)\n",
    "df13 = df_process(df13)\n",
    "df14 = df_process(df14)"
   ]
  },
  {
   "cell_type": "code",
   "execution_count": 27,
   "metadata": {},
   "outputs": [],
   "source": [
    "df = pd.concat([df1, df2, df3, df4, df5, df6, df7, df8, df9, df10, df11, df12, df13, df14])\n",
    "enc = LabelEncoder()\n",
    "df['country'] = enc.fit_transform(df['country'])"
   ]
  },
  {
   "cell_type": "code",
   "execution_count": 28,
   "metadata": {},
   "outputs": [],
   "source": [
    "scaled_features = ['rgdpbarro', 'rgdp', 'loans1', 'bassets2', 'narrowm',\n",
    "       'money', 'gdp', 'iy', 'cpi', 'pop', 'stir', 'ltrate', 'stocks', 'credit_growth']\n",
    "not_scaled_features = ['year', 'country', 'crisisST']\n",
    "scale = StandardScaler()\n",
    "df1 = pd.DataFrame(scale.fit_transform(df[scaled_features]), columns = scaled_features, index = df.index)\n",
    "df2 = df[not_scaled_features]\n",
    "df = df1.merge(df2, left_index = True, right_index = True)\n",
    "df = df.sort_values(by=['year', 'country'])"
   ]
  },
  {
   "cell_type": "code",
   "execution_count": 29,
   "metadata": {},
   "outputs": [],
   "source": [
    "for i in range(len(wars)):\n",
    "    df = df.loc[df['year'] != wars[i]]"
   ]
  },
  {
   "cell_type": "code",
   "execution_count": 30,
   "metadata": {},
   "outputs": [],
   "source": [
    "df = df.dropna()\n",
    "df = df.sort_values(by=['year', 'country'])"
   ]
  },
  {
   "cell_type": "markdown",
   "metadata": {},
   "source": [
    "## Models"
   ]
  },
  {
   "cell_type": "code",
   "execution_count": 32,
   "metadata": {},
   "outputs": [],
   "source": [
    "n = 3\n",
    "df = df.set_index(np.arange(len(df)))"
   ]
  },
  {
   "cell_type": "code",
   "execution_count": 14,
   "metadata": {},
   "outputs": [
    {
     "data": {
      "text/html": [
       "<div>\n",
       "<style scoped>\n",
       "    .dataframe tbody tr th:only-of-type {\n",
       "        vertical-align: middle;\n",
       "    }\n",
       "\n",
       "    .dataframe tbody tr th {\n",
       "        vertical-align: top;\n",
       "    }\n",
       "\n",
       "    .dataframe thead th {\n",
       "        text-align: right;\n",
       "    }\n",
       "</style>\n",
       "<table border=\"1\" class=\"dataframe\">\n",
       "  <thead>\n",
       "    <tr style=\"text-align: right;\">\n",
       "      <th></th>\n",
       "      <th>rgdpbarro</th>\n",
       "      <th>rgdp</th>\n",
       "      <th>loans1</th>\n",
       "      <th>bassets2</th>\n",
       "      <th>narrowm</th>\n",
       "      <th>money</th>\n",
       "      <th>gdp</th>\n",
       "      <th>iy</th>\n",
       "      <th>cpi</th>\n",
       "      <th>pop</th>\n",
       "      <th>stir</th>\n",
       "      <th>ltrate</th>\n",
       "      <th>stocks</th>\n",
       "      <th>credit_growth</th>\n",
       "      <th>year</th>\n",
       "      <th>country</th>\n",
       "      <th>crisisST</th>\n",
       "    </tr>\n",
       "  </thead>\n",
       "  <tbody>\n",
       "    <tr>\n",
       "      <th>0</th>\n",
       "      <td>-1.379891</td>\n",
       "      <td>-1.318650</td>\n",
       "      <td>-0.137390</td>\n",
       "      <td>-0.146371</td>\n",
       "      <td>-0.130077</td>\n",
       "      <td>-0.152272</td>\n",
       "      <td>-0.155687</td>\n",
       "      <td>-1.059112</td>\n",
       "      <td>-0.941230</td>\n",
       "      <td>-0.741855</td>\n",
       "      <td>-0.425937</td>\n",
       "      <td>-0.425524</td>\n",
       "      <td>-0.316144</td>\n",
       "      <td>0.136475</td>\n",
       "      <td>1872</td>\n",
       "      <td>12</td>\n",
       "      <td>0</td>\n",
       "    </tr>\n",
       "    <tr>\n",
       "      <th>1</th>\n",
       "      <td>-1.374411</td>\n",
       "      <td>-1.299619</td>\n",
       "      <td>-0.137385</td>\n",
       "      <td>-0.146366</td>\n",
       "      <td>-0.130074</td>\n",
       "      <td>-0.152268</td>\n",
       "      <td>-0.155677</td>\n",
       "      <td>-0.366026</td>\n",
       "      <td>-0.936778</td>\n",
       "      <td>-0.741000</td>\n",
       "      <td>-0.278059</td>\n",
       "      <td>-0.368177</td>\n",
       "      <td>-0.316148</td>\n",
       "      <td>0.133968</td>\n",
       "      <td>1873</td>\n",
       "      <td>12</td>\n",
       "      <td>0</td>\n",
       "    </tr>\n",
       "    <tr>\n",
       "      <th>2</th>\n",
       "      <td>-1.378900</td>\n",
       "      <td>-1.292471</td>\n",
       "      <td>-0.137379</td>\n",
       "      <td>-0.146362</td>\n",
       "      <td>-0.130077</td>\n",
       "      <td>-0.152264</td>\n",
       "      <td>-0.155671</td>\n",
       "      <td>-0.348864</td>\n",
       "      <td>-0.934870</td>\n",
       "      <td>-0.740163</td>\n",
       "      <td>-0.107655</td>\n",
       "      <td>-0.439177</td>\n",
       "      <td>-0.316154</td>\n",
       "      <td>0.142923</td>\n",
       "      <td>1874</td>\n",
       "      <td>12</td>\n",
       "      <td>0</td>\n",
       "    </tr>\n",
       "    <tr>\n",
       "      <th>3</th>\n",
       "      <td>-1.376055</td>\n",
       "      <td>-1.306435</td>\n",
       "      <td>-0.137377</td>\n",
       "      <td>-0.146361</td>\n",
       "      <td>-0.130081</td>\n",
       "      <td>-0.152263</td>\n",
       "      <td>-0.155673</td>\n",
       "      <td>-0.323030</td>\n",
       "      <td>-0.935506</td>\n",
       "      <td>-0.739399</td>\n",
       "      <td>0.003570</td>\n",
       "      <td>-0.478645</td>\n",
       "      <td>-0.316159</td>\n",
       "      <td>0.060841</td>\n",
       "      <td>1875</td>\n",
       "      <td>12</td>\n",
       "      <td>0</td>\n",
       "    </tr>\n",
       "    <tr>\n",
       "      <th>4</th>\n",
       "      <td>-1.025687</td>\n",
       "      <td>-1.010352</td>\n",
       "      <td>-0.137401</td>\n",
       "      <td>-0.146385</td>\n",
       "      <td>-0.130098</td>\n",
       "      <td>-0.152292</td>\n",
       "      <td>-0.155746</td>\n",
       "      <td>-0.371068</td>\n",
       "      <td>-0.939804</td>\n",
       "      <td>-0.783662</td>\n",
       "      <td>-0.254134</td>\n",
       "      <td>-0.508201</td>\n",
       "      <td>-0.314684</td>\n",
       "      <td>0.034642</td>\n",
       "      <td>1876</td>\n",
       "      <td>0</td>\n",
       "      <td>0</td>\n",
       "    </tr>\n",
       "  </tbody>\n",
       "</table>\n",
       "</div>"
      ],
      "text/plain": [
       "   rgdpbarro      rgdp    loans1  bassets2   narrowm     money       gdp  \\\n",
       "0  -1.379891 -1.318650 -0.137390 -0.146371 -0.130077 -0.152272 -0.155687   \n",
       "1  -1.374411 -1.299619 -0.137385 -0.146366 -0.130074 -0.152268 -0.155677   \n",
       "2  -1.378900 -1.292471 -0.137379 -0.146362 -0.130077 -0.152264 -0.155671   \n",
       "3  -1.376055 -1.306435 -0.137377 -0.146361 -0.130081 -0.152263 -0.155673   \n",
       "4  -1.025687 -1.010352 -0.137401 -0.146385 -0.130098 -0.152292 -0.155746   \n",
       "\n",
       "         iy       cpi       pop      stir    ltrate    stocks  credit_growth  \\\n",
       "0 -1.059112 -0.941230 -0.741855 -0.425937 -0.425524 -0.316144       0.136475   \n",
       "1 -0.366026 -0.936778 -0.741000 -0.278059 -0.368177 -0.316148       0.133968   \n",
       "2 -0.348864 -0.934870 -0.740163 -0.107655 -0.439177 -0.316154       0.142923   \n",
       "3 -0.323030 -0.935506 -0.739399  0.003570 -0.478645 -0.316159       0.060841   \n",
       "4 -0.371068 -0.939804 -0.783662 -0.254134 -0.508201 -0.314684       0.034642   \n",
       "\n",
       "   year  country  crisisST  \n",
       "0  1872       12         0  \n",
       "1  1873       12         0  \n",
       "2  1874       12         0  \n",
       "3  1875       12         0  \n",
       "4  1876        0         0  "
      ]
     },
     "execution_count": 14,
     "metadata": {},
     "output_type": "execute_result"
    }
   ],
   "source": [
    "df.head()"
   ]
  },
  {
   "cell_type": "markdown",
   "metadata": {},
   "source": [
    "### Logistic Regression"
   ]
  },
  {
   "cell_type": "code",
   "execution_count": 33,
   "metadata": {},
   "outputs": [],
   "source": [
    "clf = LogisticRegression(max_iter = 200, solver = 'newton-cg')"
   ]
  },
  {
   "cell_type": "code",
   "execution_count": 34,
   "metadata": {},
   "outputs": [],
   "source": [
    "AUC_LR_sm = []\n",
    "AUC_LR = []\n",
    "proba_sm = []\n",
    "proba = []\n",
    "y_t = []\n",
    "y = df['crisisST'].values\n",
    "X = df.drop(['crisisST'], axis=1).values\n",
    "scaler = StandardScaler()\n",
    "X  = scaler.fit_transform(X)\n",
    "sm = SMOTE(0.5,random_state=42)\n",
    "tscv = TimeSeriesSplit(n_splits=n)\n",
    "for train_index, test_index in tscv.split(X):\n",
    "    X_train, X_test = X[train_index], X[test_index]\n",
    "    y_train, y_test = y[train_index], y[test_index]\n",
    "    y_t.append(y_test)\n",
    "    X_train_sm, y_train_sm = sm.fit_resample(X_train, y_train)\n",
    "    clf.fit(X_train_sm, y_train_sm)\n",
    "    y_proba1 = clf.predict_proba(X_test)\n",
    "    clf.fit(X_train, y_train)\n",
    "    y_proba = clf.predict_proba(X_test)\n",
    "    AUC_LR.append(roc_auc_score(y_test, y_proba[:,1]))\n",
    "    proba.append(list(y_proba[:,1]))\n",
    "    AUC_LR_sm.append(roc_auc_score(y_test, y_proba1[:,1]))\n",
    "    proba_sm.append(list(y_proba1[:,1]))"
   ]
  },
  {
   "cell_type": "code",
   "execution_count": 35,
   "metadata": {},
   "outputs": [
    {
     "name": "stdout",
     "output_type": "stream",
     "text": [
      "--------------------------------------------------------------------------------\n",
      "AUC Score: 0.7745901639344261\n",
      "Confusion_Matrix 1\n",
      "[[243   1]\n",
      " [  7   0]]\n",
      "--------------------------------------------------------------------------------\n",
      "AUC Score: 0.6172839506172838\n",
      "Confusion_Matrix 2\n",
      "[[240   3]\n",
      " [  7   1]]\n",
      "--------------------------------------------------------------------------------\n",
      "AUC Score: 0.4989539748953975\n",
      "Confusion_Matrix 3\n",
      "[[239   0]\n",
      " [ 12   0]]\n",
      "--------------------------------------------------------------------------------\n",
      "AUC Score: 0.8507025761124121\n",
      "Confusion_Matrix 1\n",
      "[[233  11]\n",
      " [  4   3]]\n",
      "--------------------------------------------------------------------------------\n",
      "AUC Score: 0.5324074074074074\n",
      "Confusion_Matrix 2\n",
      "[[231  12]\n",
      " [  7   1]]\n",
      "--------------------------------------------------------------------------------\n",
      "AUC Score: 0.5244072524407253\n",
      "Confusion_Matrix 3\n",
      "[[233   6]\n",
      " [ 10   2]]\n"
     ]
    },
    {
     "data": {
      "text/plain": [
       "(None, None)"
      ]
     },
     "execution_count": 35,
     "metadata": {},
     "output_type": "execute_result"
    }
   ],
   "source": [
    "def conf_mat(prob, AUC):\n",
    "    for i in range(n):\n",
    "        y_pred = []\n",
    "        for j in range(len(prob[i])):\n",
    "            if prob[i][j]>0.5:\n",
    "                y_pred.append(1)\n",
    "            else: \n",
    "                y_pred.append(0)\n",
    "        print( \"-\"*80)\n",
    "        print('AUC Score:', AUC[i])\n",
    "        print('Confusion_Matrix', i+1)\n",
    "        print(confusion_matrix(y_t[i],y_pred))\n",
    "conf_mat(proba, AUC_LR), conf_mat(proba_sm, AUC_LR_sm)"
   ]
  },
  {
   "cell_type": "markdown",
   "metadata": {},
   "source": [
    "### Plots"
   ]
  },
  {
   "cell_type": "code",
   "execution_count": 36,
   "metadata": {},
   "outputs": [
    {
     "name": "stdout",
     "output_type": "stream",
     "text": [
      "Average precision-recall score: 0.19\n"
     ]
    },
    {
     "data": {
      "image/png": "[encoded data removed]",
      "text/plain": [
       "<Figure size 1080x1080 with 2 Axes>"
      ]
     },
     "metadata": {},
     "output_type": "display_data"
    }
   ],
   "source": [
    "y_score = proba_sm[0]\n",
    "y_test = y_t[0]\n",
    "precision, recall, thresholds = precision_recall_curve(y_test, y_score)\n",
    "from sklearn.metrics import average_precision_score\n",
    "average_precision = average_precision_score(y_test, y_score)\n",
    "\n",
    "print('Average precision-recall score: {0:0.2f}'.format(\n",
    "      average_precision))\n",
    "from sklearn.utils.fixes import signature\n",
    "step_kwargs = ({'step': 'post'}\n",
    "               if 'step' in signature(plt.fill_between).parameters\n",
    "               else {})\n",
    "plt.figure(figsize=(15,15))\n",
    "plt.subplot(2, 1, 1)\n",
    "plt.step(recall, precision, color='b', alpha=0.2,\n",
    "         where='post')\n",
    "plt.fill_between(recall, precision, alpha=0.2, color='b', **step_kwargs)\n",
    "\n",
    "plt.xlabel('Recall')\n",
    "plt.ylabel('Precision')\n",
    "plt.ylim([0.0, 1.05])\n",
    "plt.xlim([0.0, 1.0])\n",
    "plt.title('2-class Precision-Recall curve: AP={0:0.2f}'.format(\n",
    "          average_precision))\n",
    "plt.subplot(2,1,2)\n",
    "fpr, tpr, _ = roc_curve(y_test, y_score)\n",
    "auc_score = roc_auc_score(y_test, y_score)\n",
    "\n",
    "plt.plot([0, 1], [0, 1], 'k--')\n",
    "plt.plot(fpr, tpr)\n",
    "plt.xlabel('False positive rate')\n",
    "plt.ylabel('True positive rate')\n",
    "plt.title('ROC curve: AUC Score = {0:0.2f}'.format(\n",
    "          auc_score))\n",
    "plt.show()"
   ]
  },
  {
   "cell_type": "markdown",
   "metadata": {},
   "source": [
    "### Random Forest Classifier"
   ]
  },
  {
   "cell_type": "code",
   "execution_count": 19,
   "metadata": {},
   "outputs": [],
   "source": [
    "clf = RandomForestClassifier(criterion = 'entropy', max_features = 'auto', min_samples_leaf = 2, min_samples_split = 2,\n",
    "                            n_estimators = 500)"
   ]
  },
  {
   "cell_type": "code",
   "execution_count": 20,
   "metadata": {},
   "outputs": [],
   "source": [
    "AUC_LR_sm = []\n",
    "AUC_LR = []\n",
    "proba_sm = []\n",
    "proba = []\n",
    "y_t = []\n",
    "y = df['crisisST'].values\n",
    "X = df.drop(['crisisST'], axis=1).values\n",
    "scaler = StandardScaler()\n",
    "X  = scaler.fit_transform(X)\n",
    "sm = SMOTE(0.5,random_state=42)\n",
    "tscv = TimeSeriesSplit(n_splits=n)\n",
    "for train_index, test_index in tscv.split(X):\n",
    "    X_train, X_test = X[train_index], X[test_index]\n",
    "    y_train, y_test = y[train_index], y[test_index]\n",
    "    y_t.append(y_test)\n",
    "    X_train_sm, y_train_sm = sm.fit_resample(X_train, y_train)\n",
    "    clf.fit(X_train_sm, y_train_sm)\n",
    "    y_proba1 = clf.predict_proba(X_test)\n",
    "    clf.fit(X_train, y_train)\n",
    "    y_proba = clf.predict_proba(X_test)\n",
    "    AUC_LR.append(roc_auc_score(y_test, y_proba[:,1]))\n",
    "    proba.append(list(y_proba[:,1]))\n",
    "    AUC_LR_sm.append(roc_auc_score(y_test, y_proba1[:,1]))\n",
    "    proba_sm.append(list(y_proba1[:,1]))"
   ]
  },
  {
   "cell_type": "code",
   "execution_count": 21,
   "metadata": {},
   "outputs": [
    {
     "name": "stdout",
     "output_type": "stream",
     "text": [
      "--------------------------------------------------------------------------------\n",
      "AUC Score: 0.540983606557377\n",
      "Confusion_Matrix 1\n",
      "[[244   0]\n",
      " [  7   0]]\n",
      "--------------------------------------------------------------------------------\n",
      "AUC Score: 0.6779835390946503\n",
      "Confusion_Matrix 2\n",
      "[[243   0]\n",
      " [  8   0]]\n",
      "--------------------------------------------------------------------------------\n",
      "AUC Score: 0.5111576011157601\n",
      "Confusion_Matrix 3\n",
      "[[239   0]\n",
      " [ 12   0]]\n",
      "--------------------------------------------------------------------------------\n",
      "AUC Score: 0.5942622950819673\n",
      "Confusion_Matrix 1\n",
      "[[244   0]\n",
      " [  7   0]]\n",
      "--------------------------------------------------------------------------------\n",
      "AUC Score: 0.5313786008230452\n",
      "Confusion_Matrix 2\n",
      "[[243   0]\n",
      " [  8   0]]\n",
      "--------------------------------------------------------------------------------\n",
      "AUC Score: 0.5831589958158996\n",
      "Confusion_Matrix 3\n",
      "[[235   4]\n",
      " [ 12   0]]\n"
     ]
    },
    {
     "data": {
      "text/plain": [
       "(None, None)"
      ]
     },
     "execution_count": 21,
     "metadata": {},
     "output_type": "execute_result"
    }
   ],
   "source": [
    "def conf_mat(prob, AUC):\n",
    "    for i in range(n):\n",
    "        y_pred = []\n",
    "        for j in range(len(prob[i])):\n",
    "            if prob[i][j]>0.5:\n",
    "                y_pred.append(1)\n",
    "            else: \n",
    "                y_pred.append(0)\n",
    "        print( \"-\"*80)\n",
    "        print('AUC Score:', AUC[i])\n",
    "        print('Confusion_Matrix', i+1)\n",
    "        print(confusion_matrix(y_t[i],y_pred))\n",
    "conf_mat(proba, AUC_LR), conf_mat(proba_sm, AUC_LR_sm)"
   ]
  },
  {
   "cell_type": "markdown",
   "metadata": {},
   "source": [
    "### Plots"
   ]
  },
  {
   "cell_type": "code",
   "execution_count": 17,
   "metadata": {},
   "outputs": [
    {
     "name": "stdout",
     "output_type": "stream",
     "text": [
      "Average precision-recall score: 0.13\n"
     ]
    },
    {
     "data": {
      "image/png": "[encoded data removed]",
      "text/plain": [
       "<Figure size 1080x1080 with 2 Axes>"
      ]
     },
     "metadata": {},
     "output_type": "display_data"
    }
   ],
   "source": [
    "y_score = proba_sm[2]\n",
    "precision, recall, thresholds = precision_recall_curve(y_t[2], y_score)\n",
    "from sklearn.metrics import average_precision_score\n",
    "average_precision = average_precision_score(y_t[2], y_score)\n",
    "\n",
    "print('Average precision-recall score: {0:0.2f}'.format(\n",
    "      average_precision))\n",
    "from sklearn.utils.fixes import signature\n",
    "step_kwargs = ({'step': 'post'}\n",
    "               if 'step' in signature(plt.fill_between).parameters\n",
    "               else {})\n",
    "plt.figure(figsize=(15,15))\n",
    "plt.subplot(2, 1, 1)\n",
    "plt.step(recall, precision, color='b', alpha=0.2,\n",
    "         where='post')\n",
    "plt.fill_between(recall, precision, alpha=0.2, color='b', **step_kwargs)\n",
    "\n",
    "plt.xlabel('Recall')\n",
    "plt.ylabel('Precision')\n",
    "plt.ylim([0.0, 1.05])\n",
    "plt.xlim([0.0, 1.0])\n",
    "plt.title('2-class Precision-Recall curve: AP={0:0.2f}'.format(\n",
    "          average_precision))\n",
    "plt.subplot(2,1,2)\n",
    "fpr, tpr, _ = roc_curve(y_t[2], y_score)\n",
    "auc_score = roc_auc_score(y_t[2], y_score)\n",
    "\n",
    "plt.plot([0, 1], [0, 1], 'k--')\n",
    "plt.plot(fpr, tpr)\n",
    "plt.xlabel('False positive rate')\n",
    "plt.ylabel('True positive rate')\n",
    "plt.title('ROC curve: AUC Score = {0:0.2f}'.format(\n",
    "          auc_score))\n",
    "plt.show()"
   ]
  },
  {
   "cell_type": "markdown",
   "metadata": {},
   "source": [
    "### Extra-Trees Classifier"
   ]
  },
  {
   "cell_type": "code",
   "execution_count": 22,
   "metadata": {},
   "outputs": [],
   "source": [
    "clf = ExtraTreesClassifier(criterion = 'entropy', max_features = 'auto', min_samples_leaf = 2, min_samples_split = 2,\n",
    "                            n_estimators = 500)"
   ]
  },
  {
   "cell_type": "code",
   "execution_count": 23,
   "metadata": {},
   "outputs": [],
   "source": [
    "AUC_LR_sm = []\n",
    "AUC_LR = []\n",
    "proba_sm = []\n",
    "proba = []\n",
    "y_t = []\n",
    "y = df['crisisST'].values\n",
    "X = df.drop(['crisisST'], axis=1).values\n",
    "scaler = StandardScaler()\n",
    "X  = scaler.fit_transform(X)\n",
    "sm = SMOTE(0.5,random_state=42)\n",
    "tscv = TimeSeriesSplit(n_splits=n)\n",
    "for train_index, test_index in tscv.split(X):\n",
    "    X_train, X_test = X[train_index], X[test_index]\n",
    "    y_train, y_test = y[train_index], y[test_index]\n",
    "    y_t.append(y_test)\n",
    "    X_train_sm, y_train_sm = sm.fit_resample(X_train, y_train)\n",
    "    clf.fit(X_train_sm, y_train_sm)\n",
    "    y_proba1 = clf.predict_proba(X_test)\n",
    "    clf.fit(X_train, y_train)\n",
    "    y_proba = clf.predict_proba(X_test)\n",
    "    AUC_LR.append(roc_auc_score(y_test, y_proba[:,1]))\n",
    "    proba.append(list(y_proba[:,1]))\n",
    "    AUC_LR_sm.append(roc_auc_score(y_test, y_proba1[:,1]))\n",
    "    proba_sm.append(list(y_proba1[:,1]))"
   ]
  },
  {
   "cell_type": "code",
   "execution_count": 24,
   "metadata": {},
   "outputs": [
    {
     "name": "stdout",
     "output_type": "stream",
     "text": [
      "--------------------------------------------------------------------------------\n",
      "AUC Score: 0.29215456674473067\n",
      "Confusion_Matrix 1\n",
      "[[244   0]\n",
      " [  7   0]]\n",
      "--------------------------------------------------------------------------------\n",
      "AUC Score: 0.7037037037037037\n",
      "Confusion_Matrix 2\n",
      "[[243   0]\n",
      " [  8   0]]\n",
      "--------------------------------------------------------------------------------\n",
      "AUC Score: 0.5322524407252441\n",
      "Confusion_Matrix 3\n",
      "[[239   0]\n",
      " [ 12   0]]\n",
      "--------------------------------------------------------------------------------\n",
      "AUC Score: 0.42798594847775173\n",
      "Confusion_Matrix 1\n",
      "[[244   0]\n",
      " [  7   0]]\n",
      "--------------------------------------------------------------------------------\n",
      "AUC Score: 0.5823045267489712\n",
      "Confusion_Matrix 2\n",
      "[[243   0]\n",
      " [  8   0]]\n",
      "--------------------------------------------------------------------------------\n",
      "AUC Score: 0.5781032078103208\n",
      "Confusion_Matrix 3\n",
      "[[234   5]\n",
      " [ 12   0]]\n"
     ]
    },
    {
     "data": {
      "text/plain": [
       "(None, None)"
      ]
     },
     "execution_count": 24,
     "metadata": {},
     "output_type": "execute_result"
    }
   ],
   "source": [
    "def conf_mat(prob, AUC):\n",
    "    for i in range(n):\n",
    "        y_pred = []\n",
    "        for j in range(len(prob[i])):\n",
    "            if prob[i][j]>0.5:\n",
    "                y_pred.append(1)\n",
    "            else: \n",
    "                y_pred.append(0)\n",
    "        print( \"-\"*80)\n",
    "        print('AUC Score:', AUC[i])\n",
    "        print('Confusion_Matrix', i+1)\n",
    "        print(confusion_matrix(y_t[i],y_pred))\n",
    "conf_mat(proba, AUC_LR), conf_mat(proba_sm, AUC_LR_sm)"
   ]
  },
  {
   "cell_type": "markdown",
   "metadata": {},
   "source": [
    "### Decision Tree Classifier"
   ]
  },
  {
   "cell_type": "code",
   "execution_count": 25,
   "metadata": {},
   "outputs": [],
   "source": [
    "clf = DecisionTreeClassifier()"
   ]
  },
  {
   "cell_type": "code",
   "execution_count": 26,
   "metadata": {},
   "outputs": [],
   "source": [
    "AUC_LR_sm = []\n",
    "AUC_LR = []\n",
    "proba_sm = []\n",
    "proba = []\n",
    "y_t = []\n",
    "y = df['crisisST'].values\n",
    "X = df.drop(['crisisST'], axis=1).values\n",
    "scaler = StandardScaler()\n",
    "X  = scaler.fit_transform(X)\n",
    "sm = SMOTE(0.5,random_state=42)\n",
    "tscv = TimeSeriesSplit(n_splits=n)\n",
    "for train_index, test_index in tscv.split(X):\n",
    "    X_train, X_test = X[train_index], X[test_index]\n",
    "    y_train, y_test = y[train_index], y[test_index]\n",
    "    y_t.append(y_test)\n",
    "    X_train_sm, y_train_sm = sm.fit_resample(X_train, y_train)\n",
    "    clf.fit(X_train_sm, y_train_sm)\n",
    "    y_proba1 = clf.predict_proba(X_test)\n",
    "    clf.fit(X_train, y_train)\n",
    "    y_proba = clf.predict_proba(X_test)\n",
    "    AUC_LR.append(roc_auc_score(y_test, y_proba[:,1]))\n",
    "    proba.append(list(y_proba[:,1]))\n",
    "    AUC_LR_sm.append(roc_auc_score(y_test, y_proba1[:,1]))\n",
    "    proba_sm.append(list(y_proba1[:,1]))"
   ]
  },
  {
   "cell_type": "code",
   "execution_count": 27,
   "metadata": {},
   "outputs": [
    {
     "name": "stdout",
     "output_type": "stream",
     "text": [
      "--------------------------------------------------------------------------------\n",
      "AUC Score: 0.4294496487119438\n",
      "Confusion_Matrix 1\n",
      "[[105 139]\n",
      " [  4   3]]\n",
      "--------------------------------------------------------------------------------\n",
      "AUC Score: 0.49588477366255146\n",
      "Confusion_Matrix 2\n",
      "[[241   2]\n",
      " [  8   0]]\n",
      "--------------------------------------------------------------------------------\n",
      "AUC Score: 0.4916317991631799\n",
      "Confusion_Matrix 3\n",
      "[[235   4]\n",
      " [ 12   0]]\n",
      "--------------------------------------------------------------------------------\n",
      "AUC Score: 0.3790983606557377\n",
      "Confusion_Matrix 1\n",
      "[[185  59]\n",
      " [  7   0]]\n",
      "--------------------------------------------------------------------------------\n",
      "AUC Score: 0.5\n",
      "Confusion_Matrix 2\n",
      "[[243   0]\n",
      " [  8   0]]\n",
      "--------------------------------------------------------------------------------\n",
      "AUC Score: 0.4916317991631799\n",
      "Confusion_Matrix 3\n",
      "[[235   4]\n",
      " [ 12   0]]\n"
     ]
    },
    {
     "data": {
      "text/plain": [
       "(None, None)"
      ]
     },
     "execution_count": 27,
     "metadata": {},
     "output_type": "execute_result"
    }
   ],
   "source": [
    "def conf_mat(prob, AUC):\n",
    "    for i in range(n):\n",
    "        y_pred = []\n",
    "        for j in range(len(prob[i])):\n",
    "            if prob[i][j]>0.5:\n",
    "                y_pred.append(1)\n",
    "            else: \n",
    "                y_pred.append(0)\n",
    "        print( \"-\"*80)\n",
    "        print('AUC Score:', AUC[i])\n",
    "        print('Confusion_Matrix', i+1)\n",
    "        print(confusion_matrix(y_t[i],y_pred))\n",
    "conf_mat(proba, AUC_LR), conf_mat(proba_sm, AUC_LR_sm)"
   ]
  },
  {
   "cell_type": "markdown",
   "metadata": {},
   "source": [
    "### BaggingClassifier"
   ]
  },
  {
   "cell_type": "code",
   "execution_count": 28,
   "metadata": {},
   "outputs": [],
   "source": [
    "clf = BaggingClassifier()"
   ]
  },
  {
   "cell_type": "code",
   "execution_count": 29,
   "metadata": {},
   "outputs": [],
   "source": [
    "AUC_LR_sm = []\n",
    "AUC_LR = []\n",
    "proba_sm = []\n",
    "proba = []\n",
    "y_t = []\n",
    "y = df['crisisST'].values\n",
    "X = df.drop(['crisisST'], axis=1).values\n",
    "scaler = StandardScaler()\n",
    "X  = scaler.fit_transform(X)\n",
    "sm = SMOTE(0.5,random_state=42)\n",
    "tscv = TimeSeriesSplit(n_splits=n)\n",
    "for train_index, test_index in tscv.split(X):\n",
    "    X_train, X_test = X[train_index], X[test_index]\n",
    "    y_train, y_test = y[train_index], y[test_index]\n",
    "    y_t.append(y_test)\n",
    "    X_train_sm, y_train_sm = sm.fit_resample(X_train, y_train)\n",
    "    clf.fit(X_train_sm, y_train_sm)\n",
    "    y_proba1 = clf.predict_proba(X_test)\n",
    "    clf.fit(X_train, y_train)\n",
    "    y_proba = clf.predict_proba(X_test)\n",
    "    AUC_LR.append(roc_auc_score(y_test, y_proba[:,1]))\n",
    "    proba.append(list(y_proba[:,1]))\n",
    "    AUC_LR_sm.append(roc_auc_score(y_test, y_proba1[:,1]))\n",
    "    proba_sm.append(list(y_proba1[:,1]))"
   ]
  },
  {
   "cell_type": "code",
   "execution_count": 30,
   "metadata": {},
   "outputs": [
    {
     "name": "stdout",
     "output_type": "stream",
     "text": [
      "--------------------------------------------------------------------------------\n",
      "AUC Score: 0.27195550351288056\n",
      "Confusion_Matrix 1\n",
      "[[123 121]\n",
      " [  5   2]]\n",
      "--------------------------------------------------------------------------------\n",
      "AUC Score: 0.702417695473251\n",
      "Confusion_Matrix 2\n",
      "[[243   0]\n",
      " [  8   0]]\n",
      "--------------------------------------------------------------------------------\n",
      "AUC Score: 0.46234309623430964\n",
      "Confusion_Matrix 3\n",
      "[[235   4]\n",
      " [ 12   0]]\n",
      "--------------------------------------------------------------------------------\n",
      "AUC Score: 0.35597189695550346\n",
      "Confusion_Matrix 1\n",
      "[[239   5]\n",
      " [  7   0]]\n",
      "--------------------------------------------------------------------------------\n",
      "AUC Score: 0.4609053497942387\n",
      "Confusion_Matrix 2\n",
      "[[243   0]\n",
      " [  8   0]]\n",
      "--------------------------------------------------------------------------------\n",
      "AUC Score: 0.46234309623430964\n",
      "Confusion_Matrix 3\n",
      "[[237   2]\n",
      " [ 12   0]]\n"
     ]
    },
    {
     "data": {
      "text/plain": [
       "(None, None)"
      ]
     },
     "execution_count": 30,
     "metadata": {},
     "output_type": "execute_result"
    }
   ],
   "source": [
    "def conf_mat(prob, AUC):\n",
    "    for i in range(n):\n",
    "        y_pred = []\n",
    "        for j in range(len(prob[i])):\n",
    "            if prob[i][j]>0.5:\n",
    "                y_pred.append(1)\n",
    "            else: \n",
    "                y_pred.append(0)\n",
    "        print( \"-\"*80)\n",
    "        print('AUC Score:', AUC[i])\n",
    "        print('Confusion_Matrix', i+1)\n",
    "        print(confusion_matrix(y_t[i],y_pred))\n",
    "conf_mat(proba, AUC_LR), conf_mat(proba_sm, AUC_LR_sm)"
   ]
  },
  {
   "cell_type": "markdown",
   "metadata": {},
   "source": [
    "### AdaBoost Classifier"
   ]
  },
  {
   "cell_type": "code",
   "execution_count": 31,
   "metadata": {},
   "outputs": [],
   "source": [
    "clf = AdaBoostClassifier()"
   ]
  },
  {
   "cell_type": "code",
   "execution_count": 32,
   "metadata": {},
   "outputs": [],
   "source": [
    "AUC_LR_sm = []\n",
    "AUC_LR = []\n",
    "proba_sm = []\n",
    "proba = []\n",
    "y_t = []\n",
    "y = df['crisisST'].values\n",
    "X = df.drop(['crisisST'], axis=1).values\n",
    "scaler = StandardScaler()\n",
    "X  = scaler.fit_transform(X)\n",
    "sm = SMOTE(0.5,random_state=42)\n",
    "tscv = TimeSeriesSplit(n_splits=n)\n",
    "for train_index, test_index in tscv.split(X):\n",
    "    X_train, X_test = X[train_index], X[test_index]\n",
    "    y_train, y_test = y[train_index], y[test_index]\n",
    "    y_t.append(y_test)\n",
    "    X_train_sm, y_train_sm = sm.fit_resample(X_train, y_train)\n",
    "    clf.fit(X_train_sm, y_train_sm)\n",
    "    y_proba1 = clf.predict_proba(X_test)\n",
    "    clf.fit(X_train, y_train)\n",
    "    y_proba = clf.predict_proba(X_test)\n",
    "    AUC_LR.append(roc_auc_score(y_test, y_proba[:,1]))\n",
    "    proba.append(list(y_proba[:,1]))\n",
    "    AUC_LR_sm.append(roc_auc_score(y_test, y_proba1[:,1]))\n",
    "    proba_sm.append(list(y_proba1[:,1]))"
   ]
  },
  {
   "cell_type": "code",
   "execution_count": 33,
   "metadata": {},
   "outputs": [
    {
     "name": "stdout",
     "output_type": "stream",
     "text": [
      "--------------------------------------------------------------------------------\n",
      "AUC Score: 0.681791569086651\n",
      "Confusion_Matrix 1\n",
      "[[228  16]\n",
      " [  6   1]]\n",
      "--------------------------------------------------------------------------------\n",
      "AUC Score: 0.54809670781893\n",
      "Confusion_Matrix 2\n",
      "[[243   0]\n",
      " [  8   0]]\n",
      "--------------------------------------------------------------------------------\n",
      "AUC Score: 0.5934449093444909\n",
      "Confusion_Matrix 3\n",
      "[[239   0]\n",
      " [ 12   0]]\n",
      "--------------------------------------------------------------------------------\n",
      "AUC Score: 0.8416276346604216\n",
      "Confusion_Matrix 1\n",
      "[[243   1]\n",
      " [  6   1]]\n",
      "--------------------------------------------------------------------------------\n",
      "AUC Score: 0.4678497942386831\n",
      "Confusion_Matrix 2\n",
      "[[243   0]\n",
      " [  8   0]]\n",
      "--------------------------------------------------------------------------------\n",
      "AUC Score: 0.6514993026499303\n",
      "Confusion_Matrix 3\n",
      "[[228  11]\n",
      " [ 11   1]]\n"
     ]
    },
    {
     "data": {
      "text/plain": [
       "(None, None)"
      ]
     },
     "execution_count": 33,
     "metadata": {},
     "output_type": "execute_result"
    }
   ],
   "source": [
    "def conf_mat(prob, AUC):\n",
    "    for i in range(n):\n",
    "        y_pred = []\n",
    "        for j in range(len(prob[i])):\n",
    "            if prob[i][j]>0.5:\n",
    "                y_pred.append(1)\n",
    "            else: \n",
    "                y_pred.append(0)\n",
    "        print( \"-\"*80)\n",
    "        print('AUC Score:', AUC[i])\n",
    "        print('Confusion_Matrix', i+1)\n",
    "        print(confusion_matrix(y_t[i],y_pred))\n",
    "conf_mat(proba, AUC_LR), conf_mat(proba_sm, AUC_LR_sm)"
   ]
  },
  {
   "cell_type": "markdown",
   "metadata": {},
   "source": [
    "### GradientBoostingClassifier"
   ]
  },
  {
   "cell_type": "code",
   "execution_count": 34,
   "metadata": {},
   "outputs": [],
   "source": [
    "clf = GradientBoostingClassifier()"
   ]
  },
  {
   "cell_type": "code",
   "execution_count": 35,
   "metadata": {},
   "outputs": [],
   "source": [
    "AUC_LR_sm = []\n",
    "AUC_LR = []\n",
    "proba_sm = []\n",
    "proba = []\n",
    "y_t = []\n",
    "y = df['crisisST'].values\n",
    "X = df.drop(['crisisST'], axis=1).values\n",
    "scaler = StandardScaler()\n",
    "X  = scaler.fit_transform(X)\n",
    "sm = SMOTE(0.5,random_state=42)\n",
    "tscv = TimeSeriesSplit(n_splits=n)\n",
    "for train_index, test_index in tscv.split(X):\n",
    "    X_train, X_test = X[train_index], X[test_index]\n",
    "    y_train, y_test = y[train_index], y[test_index]\n",
    "    y_t.append(y_test)\n",
    "    X_train_sm, y_train_sm = sm.fit_resample(X_train, y_train)\n",
    "    clf.fit(X_train_sm, y_train_sm)\n",
    "    y_proba1 = clf.predict_proba(X_test)\n",
    "    clf.fit(X_train, y_train)\n",
    "    y_proba = clf.predict_proba(X_test)\n",
    "    AUC_LR.append(roc_auc_score(y_test, y_proba[:,1]))\n",
    "    proba.append(list(y_proba[:,1]))\n",
    "    AUC_LR_sm.append(roc_auc_score(y_test, y_proba1[:,1]))\n",
    "    proba_sm.append(list(y_proba1[:,1]))"
   ]
  },
  {
   "cell_type": "code",
   "execution_count": 36,
   "metadata": {},
   "outputs": [
    {
     "name": "stdout",
     "output_type": "stream",
     "text": [
      "--------------------------------------------------------------------------------\n",
      "AUC Score: 0.2543911007025761\n",
      "Confusion_Matrix 1\n",
      "[[133 111]\n",
      " [  7   0]]\n",
      "--------------------------------------------------------------------------------\n",
      "AUC Score: 0.6790123456790123\n",
      "Confusion_Matrix 2\n",
      "[[243   0]\n",
      " [  8   0]]\n",
      "--------------------------------------------------------------------------------\n",
      "AUC Score: 0.5559623430962344\n",
      "Confusion_Matrix 3\n",
      "[[236   3]\n",
      " [ 12   0]]\n",
      "--------------------------------------------------------------------------------\n",
      "AUC Score: 0.4279859484777518\n",
      "Confusion_Matrix 1\n",
      "[[242   2]\n",
      " [  7   0]]\n",
      "--------------------------------------------------------------------------------\n",
      "AUC Score: 0.45884773662551437\n",
      "Confusion_Matrix 2\n",
      "[[243   0]\n",
      " [  8   0]]\n",
      "--------------------------------------------------------------------------------\n",
      "AUC Score: 0.539400278940028\n",
      "Confusion_Matrix 3\n",
      "[[235   4]\n",
      " [ 12   0]]\n"
     ]
    },
    {
     "data": {
      "text/plain": [
       "(None, None)"
      ]
     },
     "execution_count": 36,
     "metadata": {},
     "output_type": "execute_result"
    }
   ],
   "source": [
    "def conf_mat(prob, AUC):\n",
    "    for i in range(n):\n",
    "        y_pred = []\n",
    "        for j in range(len(prob[i])):\n",
    "            if prob[i][j]>0.5:\n",
    "                y_pred.append(1)\n",
    "            else: \n",
    "                y_pred.append(0)\n",
    "        print( \"-\"*80)\n",
    "        print('AUC Score:', AUC[i])\n",
    "        print('Confusion_Matrix', i+1)\n",
    "        print(confusion_matrix(y_t[i],y_pred))\n",
    "conf_mat(proba, AUC_LR), conf_mat(proba_sm, AUC_LR_sm)"
   ]
  },
  {
   "cell_type": "markdown",
   "metadata": {},
   "source": [
    "### XGBoost Classifier"
   ]
  },
  {
   "cell_type": "code",
   "execution_count": 37,
   "metadata": {},
   "outputs": [],
   "source": [
    "clf = XGBClassifier()"
   ]
  },
  {
   "cell_type": "code",
   "execution_count": 38,
   "metadata": {},
   "outputs": [],
   "source": [
    "AUC_LR_sm = []\n",
    "AUC_LR = []\n",
    "proba_sm = []\n",
    "proba = []\n",
    "y_t = []\n",
    "y = df['crisisST'].values\n",
    "X = df.drop(['crisisST'], axis=1).values\n",
    "scaler = StandardScaler()\n",
    "X  = scaler.fit_transform(X)\n",
    "sm = SMOTE(0.5,random_state=42)\n",
    "tscv = TimeSeriesSplit(n_splits=n)\n",
    "for train_index, test_index in tscv.split(X):\n",
    "    X_train, X_test = X[train_index], X[test_index]\n",
    "    y_train, y_test = y[train_index], y[test_index]\n",
    "    y_t.append(y_test)\n",
    "    X_train_sm, y_train_sm = sm.fit_resample(X_train, y_train)\n",
    "    clf.fit(X_train_sm, y_train_sm)\n",
    "    y_proba1 = clf.predict_proba(X_test)\n",
    "    clf.fit(X_train, y_train)\n",
    "    y_proba = clf.predict_proba(X_test)\n",
    "    AUC_LR.append(roc_auc_score(y_test, y_proba[:,1]))\n",
    "    proba.append(list(y_proba[:,1]))\n",
    "    AUC_LR_sm.append(roc_auc_score(y_test, y_proba1[:,1]))\n",
    "    proba_sm.append(list(y_proba1[:,1]))"
   ]
  },
  {
   "cell_type": "code",
   "execution_count": 39,
   "metadata": {},
   "outputs": [
    {
     "name": "stdout",
     "output_type": "stream",
     "text": [
      "--------------------------------------------------------------------------------\n",
      "AUC Score: 0.6902810304449648\n",
      "Confusion_Matrix 1\n",
      "[[244   0]\n",
      " [  7   0]]\n",
      "--------------------------------------------------------------------------------\n",
      "AUC Score: 0.621656378600823\n",
      "Confusion_Matrix 2\n",
      "[[243   0]\n",
      " [  8   0]]\n",
      "--------------------------------------------------------------------------------\n",
      "AUC Score: 0.548465829846583\n",
      "Confusion_Matrix 3\n",
      "[[239   0]\n",
      " [ 12   0]]\n",
      "--------------------------------------------------------------------------------\n",
      "AUC Score: 0.623536299765808\n",
      "Confusion_Matrix 1\n",
      "[[244   0]\n",
      " [  7   0]]\n",
      "--------------------------------------------------------------------------------\n",
      "AUC Score: 0.47247942386831276\n",
      "Confusion_Matrix 2\n",
      "[[243   0]\n",
      " [  8   0]]\n",
      "--------------------------------------------------------------------------------\n",
      "AUC Score: 0.5725244072524407\n",
      "Confusion_Matrix 3\n",
      "[[235   4]\n",
      " [ 12   0]]\n"
     ]
    },
    {
     "data": {
      "text/plain": [
       "(None, None)"
      ]
     },
     "execution_count": 39,
     "metadata": {},
     "output_type": "execute_result"
    }
   ],
   "source": [
    "def conf_mat(prob, AUC):\n",
    "    for i in range(n):\n",
    "        y_pred = []\n",
    "        for j in range(len(prob[i])):\n",
    "            if prob[i][j]>0.5:\n",
    "                y_pred.append(1)\n",
    "            else: \n",
    "                y_pred.append(0)\n",
    "        print( \"-\"*80)\n",
    "        print('AUC Score:', AUC[i])\n",
    "        print('Confusion_Matrix', i+1)\n",
    "        print(confusion_matrix(y_t[i],y_pred))\n",
    "conf_mat(proba, AUC_LR), conf_mat(proba_sm, AUC_LR_sm)"
   ]
  },
  {
   "cell_type": "markdown",
   "metadata": {},
   "source": [
    "### KNeighbors Classifier"
   ]
  },
  {
   "cell_type": "code",
   "execution_count": 40,
   "metadata": {},
   "outputs": [],
   "source": [
    "clf = KNeighborsClassifier(5)"
   ]
  },
  {
   "cell_type": "code",
   "execution_count": 41,
   "metadata": {},
   "outputs": [],
   "source": [
    "AUC_LR_sm = []\n",
    "AUC_LR = []\n",
    "proba_sm = []\n",
    "proba = []\n",
    "y_t = []\n",
    "y = df['crisisST'].values\n",
    "X = df.drop(['crisisST'], axis=1).values\n",
    "scaler = StandardScaler()\n",
    "X  = scaler.fit_transform(X)\n",
    "sm = SMOTE(0.5,random_state=42)\n",
    "tscv = TimeSeriesSplit(n_splits=n)\n",
    "for train_index, test_index in tscv.split(X):\n",
    "    X_train, X_test = X[train_index], X[test_index]\n",
    "    y_train, y_test = y[train_index], y[test_index]\n",
    "    y_t.append(y_test)\n",
    "    X_train_sm, y_train_sm = sm.fit_resample(X_train, y_train)\n",
    "    clf.fit(X_train_sm, y_train_sm)\n",
    "    y_proba1 = clf.predict_proba(X_test)\n",
    "    clf.fit(X_train, y_train)\n",
    "    y_proba = clf.predict_proba(X_test)\n",
    "    AUC_LR.append(roc_auc_score(y_test, y_proba[:,1]))\n",
    "    proba.append(list(y_proba[:,1]))\n",
    "    AUC_LR_sm.append(roc_auc_score(y_test, y_proba1[:,1]))\n",
    "    proba_sm.append(list(y_proba1[:,1]))"
   ]
  },
  {
   "cell_type": "code",
   "execution_count": 42,
   "metadata": {},
   "outputs": [
    {
     "name": "stdout",
     "output_type": "stream",
     "text": [
      "--------------------------------------------------------------------------------\n",
      "AUC Score: 0.5670374707259952\n",
      "Confusion_Matrix 1\n",
      "[[244   0]\n",
      " [  7   0]]\n",
      "--------------------------------------------------------------------------------\n",
      "AUC Score: 0.5\n",
      "Confusion_Matrix 2\n",
      "[[243   0]\n",
      " [  8   0]]\n",
      "--------------------------------------------------------------------------------\n",
      "AUC Score: 0.4874476987447699\n",
      "Confusion_Matrix 3\n",
      "[[239   0]\n",
      " [ 12   0]]\n",
      "--------------------------------------------------------------------------------\n",
      "AUC Score: 0.5822599531615925\n",
      "Confusion_Matrix 1\n",
      "[[241   3]\n",
      " [  6   1]]\n",
      "--------------------------------------------------------------------------------\n",
      "AUC Score: 0.5\n",
      "Confusion_Matrix 2\n",
      "[[243   0]\n",
      " [  8   0]]\n",
      "--------------------------------------------------------------------------------\n",
      "AUC Score: 0.5247559274755927\n",
      "Confusion_Matrix 3\n",
      "[[236   3]\n",
      " [ 12   0]]\n"
     ]
    },
    {
     "data": {
      "text/plain": [
       "(None, None)"
      ]
     },
     "execution_count": 42,
     "metadata": {},
     "output_type": "execute_result"
    }
   ],
   "source": [
    "def conf_mat(prob, AUC):\n",
    "    for i in range(n):\n",
    "        y_pred = []\n",
    "        for j in range(len(prob[i])):\n",
    "            if prob[i][j]>0.5:\n",
    "                y_pred.append(1)\n",
    "            else: \n",
    "                y_pred.append(0)\n",
    "        print( \"-\"*80)\n",
    "        print('AUC Score:', AUC[i])\n",
    "        print('Confusion_Matrix', i+1)\n",
    "        print(confusion_matrix(y_t[i],y_pred))\n",
    "conf_mat(proba, AUC_LR), conf_mat(proba_sm, AUC_LR_sm)"
   ]
  },
  {
   "cell_type": "markdown",
   "metadata": {},
   "source": [
    "### Naive Bayes"
   ]
  },
  {
   "cell_type": "code",
   "execution_count": 43,
   "metadata": {},
   "outputs": [],
   "source": [
    "clf = GaussianNB()"
   ]
  },
  {
   "cell_type": "code",
   "execution_count": 44,
   "metadata": {},
   "outputs": [],
   "source": [
    "AUC_LR_sm = []\n",
    "AUC_LR = []\n",
    "proba_sm = []\n",
    "proba = []\n",
    "y_t = []\n",
    "y = df['crisisST'].values\n",
    "X = df.drop(['crisisST'], axis=1).values\n",
    "scaler = StandardScaler()\n",
    "X  = scaler.fit_transform(X)\n",
    "sm = SMOTE(0.5,random_state=42)\n",
    "tscv = TimeSeriesSplit(n_splits=n)\n",
    "for train_index, test_index in tscv.split(X):\n",
    "    X_train, X_test = X[train_index], X[test_index]\n",
    "    y_train, y_test = y[train_index], y[test_index]\n",
    "    y_t.append(y_test)\n",
    "    X_train_sm, y_train_sm = sm.fit_resample(X_train, y_train)\n",
    "    clf.fit(X_train_sm, y_train_sm)\n",
    "    y_proba1 = clf.predict_proba(X_test)\n",
    "    clf.fit(X_train, y_train)\n",
    "    y_proba = clf.predict_proba(X_test)\n",
    "    AUC_LR.append(roc_auc_score(y_test, y_proba[:,1]))\n",
    "    proba.append(list(y_proba[:,1]))\n",
    "    AUC_LR_sm.append(roc_auc_score(y_test, y_proba1[:,1]))\n",
    "    proba_sm.append(list(y_proba1[:,1]))"
   ]
  },
  {
   "cell_type": "code",
   "execution_count": 45,
   "metadata": {},
   "outputs": [
    {
     "name": "stdout",
     "output_type": "stream",
     "text": [
      "--------------------------------------------------------------------------------\n",
      "AUC Score: 0.5579625292740047\n",
      "Confusion_Matrix 1\n",
      "[[219  25]\n",
      " [  7   0]]\n",
      "--------------------------------------------------------------------------------\n",
      "AUC Score: 0.48431069958847733\n",
      "Confusion_Matrix 2\n",
      "[[236   7]\n",
      " [  7   1]]\n",
      "--------------------------------------------------------------------------------\n",
      "AUC Score: 0.46652719665271963\n",
      "Confusion_Matrix 3\n",
      "[[196  43]\n",
      " [ 10   2]]\n",
      "--------------------------------------------------------------------------------\n",
      "AUC Score: 0.6329039812646371\n",
      "Confusion_Matrix 1\n",
      "[[244   0]\n",
      " [  7   0]]\n",
      "--------------------------------------------------------------------------------\n",
      "AUC Score: 0.4441872427983539\n",
      "Confusion_Matrix 2\n",
      "[[237   6]\n",
      " [  7   1]]\n",
      "--------------------------------------------------------------------------------\n",
      "AUC Score: 0.45955369595536966\n",
      "Confusion_Matrix 3\n",
      "[[164  75]\n",
      " [  9   3]]\n"
     ]
    },
    {
     "data": {
      "text/plain": [
       "(None, None)"
      ]
     },
     "execution_count": 45,
     "metadata": {},
     "output_type": "execute_result"
    }
   ],
   "source": [
    "def conf_mat(prob, AUC):\n",
    "    for i in range(n):\n",
    "        y_pred = []\n",
    "        for j in range(len(prob[i])):\n",
    "            if prob[i][j]>0.5:\n",
    "                y_pred.append(1)\n",
    "            else: \n",
    "                y_pred.append(0)\n",
    "        print( \"-\"*80)\n",
    "        print('AUC Score:', AUC[i])\n",
    "        print('Confusion_Matrix', i+1)\n",
    "        print(confusion_matrix(y_t[i],y_pred))\n",
    "conf_mat(proba, AUC_LR), conf_mat(proba_sm, AUC_LR_sm)"
   ]
  },
  {
   "cell_type": "markdown",
   "metadata": {},
   "source": [
    "### Linear Discriminant Analysis"
   ]
  },
  {
   "cell_type": "code",
   "execution_count": 42,
   "metadata": {},
   "outputs": [],
   "source": [
    "clf = LinearDiscriminantAnalysis()"
   ]
  },
  {
   "cell_type": "code",
   "execution_count": 43,
   "metadata": {},
   "outputs": [],
   "source": [
    "AUC_LR_sm = []\n",
    "AUC_LR = []\n",
    "proba_sm = []\n",
    "proba = []\n",
    "y_t = []\n",
    "y = df['crisisST'].values\n",
    "X = df.drop(['crisisST'], axis=1).values\n",
    "scaler = StandardScaler()\n",
    "X  = scaler.fit_transform(X)\n",
    "sm = SMOTE(0.5,random_state=42)\n",
    "tscv = TimeSeriesSplit(n_splits=n)\n",
    "for train_index, test_index in tscv.split(X):\n",
    "    X_train, X_test = X[train_index], X[test_index]\n",
    "    y_train, y_test = y[train_index], y[test_index]\n",
    "    y_t.append(y_test)\n",
    "    X_train_sm, y_train_sm = sm.fit_resample(X_train, y_train)\n",
    "    clf.fit(X_train_sm, y_train_sm)\n",
    "    y_proba1 = clf.predict_proba(X_test)\n",
    "    clf.fit(X_train, y_train)\n",
    "    y_proba = clf.predict_proba(X_test)\n",
    "    AUC_LR.append(roc_auc_score(y_test, y_proba[:,1]))\n",
    "    proba.append(list(y_proba[:,1]))\n",
    "    AUC_LR_sm.append(roc_auc_score(y_test, y_proba1[:,1]))\n",
    "    proba_sm.append(list(y_proba1[:,1]))"
   ]
  },
  {
   "cell_type": "code",
   "execution_count": 44,
   "metadata": {},
   "outputs": [
    {
     "name": "stdout",
     "output_type": "stream",
     "text": [
      "--------------------------------------------------------------------------------\n",
      "AUC Score: 0.5243599304001989\n",
      "Confusion_Matrix 1\n",
      "[[447   0]\n",
      " [ 18   0]]\n",
      "--------------------------------------------------------------------------------\n",
      "AUC Score: 0.6252821670428893\n",
      "Confusion_Matrix 2\n",
      "[[443   0]\n",
      " [ 22   0]]\n",
      "--------------------------------------------------------------------------------\n",
      "AUC Score: 0.5746896275530637\n",
      "Confusion_Matrix 3\n",
      "[[454   0]\n",
      " [ 11   0]]\n",
      "--------------------------------------------------------------------------------\n",
      "AUC Score: 0.5213770817797663\n",
      "Confusion_Matrix 1\n",
      "[[341 106]\n",
      " [ 11   7]]\n",
      "--------------------------------------------------------------------------------\n",
      "AUC Score: 0.6311307202955058\n",
      "Confusion_Matrix 2\n",
      "[[407  36]\n",
      " [ 18   4]]\n",
      "--------------------------------------------------------------------------------\n",
      "AUC Score: 0.592110532639167\n",
      "Confusion_Matrix 3\n",
      "[[454   0]\n",
      " [ 11   0]]\n"
     ]
    },
    {
     "data": {
      "text/plain": [
       "(None, None)"
      ]
     },
     "execution_count": 44,
     "metadata": {},
     "output_type": "execute_result"
    }
   ],
   "source": [
    "def conf_mat(prob, AUC):\n",
    "    for i in range(n):\n",
    "        y_pred = []\n",
    "        for j in range(len(prob[i])):\n",
    "            if prob[i][j]>0.5:\n",
    "                y_pred.append(1)\n",
    "            else: \n",
    "                y_pred.append(0)\n",
    "        print( \"-\"*80)\n",
    "        print('AUC Score:', AUC[i])\n",
    "        print('Confusion_Matrix', i+1)\n",
    "        print(confusion_matrix(y_t[i],y_pred))\n",
    "conf_mat(proba, AUC_LR), conf_mat(proba_sm, AUC_LR_sm)"
   ]
  },
  {
   "cell_type": "markdown",
   "metadata": {},
   "source": [
    "### Quadratic Discriminant Analysis"
   ]
  },
  {
   "cell_type": "code",
   "execution_count": 45,
   "metadata": {},
   "outputs": [],
   "source": [
    "clf = QuadraticDiscriminantAnalysis()"
   ]
  },
  {
   "cell_type": "code",
   "execution_count": 46,
   "metadata": {},
   "outputs": [],
   "source": [
    "AUC_LR_sm = []\n",
    "AUC_LR = []\n",
    "proba_sm = []\n",
    "proba = []\n",
    "y_t = []\n",
    "y = df['crisisST'].values\n",
    "X = df.drop(['crisisST'], axis=1).values\n",
    "scaler = StandardScaler()\n",
    "X  = scaler.fit_transform(X)\n",
    "sm = SMOTE(0.5,random_state=42)\n",
    "tscv = TimeSeriesSplit(n_splits=n)\n",
    "for train_index, test_index in tscv.split(X):\n",
    "    X_train, X_test = X[train_index], X[test_index]\n",
    "    y_train, y_test = y[train_index], y[test_index]\n",
    "    y_t.append(y_test)\n",
    "    X_train_sm, y_train_sm = sm.fit_resample(X_train, y_train)\n",
    "    clf.fit(X_train_sm, y_train_sm)\n",
    "    y_proba1 = clf.predict_proba(X_test)\n",
    "    clf.fit(X_train, y_train)\n",
    "    y_proba = clf.predict_proba(X_test)\n",
    "    AUC_LR.append(roc_auc_score(y_test, y_proba[:,1]))\n",
    "    proba.append(list(y_proba[:,1]))\n",
    "    AUC_LR_sm.append(roc_auc_score(y_test, y_proba1[:,1]))\n",
    "    proba_sm.append(list(y_proba1[:,1]))"
   ]
  },
  {
   "cell_type": "code",
   "execution_count": 47,
   "metadata": {},
   "outputs": [
    {
     "name": "stdout",
     "output_type": "stream",
     "text": [
      "--------------------------------------------------------------------------------\n",
      "AUC Score: 0.5321899080288341\n",
      "Confusion_Matrix 1\n",
      "[[246 201]\n",
      " [  8  10]]\n",
      "--------------------------------------------------------------------------------\n",
      "AUC Score: 0.5983993433203365\n",
      "Confusion_Matrix 2\n",
      "[[156 287]\n",
      " [  4  18]]\n",
      "--------------------------------------------------------------------------------\n",
      "AUC Score: 0.566079295154185\n",
      "Confusion_Matrix 3\n",
      "[[ 21 433]\n",
      " [  0  11]]\n",
      "--------------------------------------------------------------------------------\n",
      "AUC Score: 0.5031071339796171\n",
      "Confusion_Matrix 1\n",
      "[[247 200]\n",
      " [  9   9]]\n",
      "--------------------------------------------------------------------------------\n",
      "AUC Score: 0.6073260824953827\n",
      "Confusion_Matrix 2\n",
      "[[105 338]\n",
      " [  2  20]]\n",
      "--------------------------------------------------------------------------------\n",
      "AUC Score: 0.5574689627553064\n",
      "Confusion_Matrix 3\n",
      "[[ 22 432]\n",
      " [  0  11]]\n"
     ]
    },
    {
     "data": {
      "text/plain": [
       "(None, None)"
      ]
     },
     "execution_count": 47,
     "metadata": {},
     "output_type": "execute_result"
    }
   ],
   "source": [
    "def conf_mat(prob, AUC):\n",
    "    for i in range(n):\n",
    "        y_pred = []\n",
    "        for j in range(len(prob[i])):\n",
    "            if prob[i][j]>0.5:\n",
    "                y_pred.append(1)\n",
    "            else: \n",
    "                y_pred.append(0)\n",
    "        print( \"-\"*80)\n",
    "        print('AUC Score:', AUC[i])\n",
    "        print('Confusion_Matrix', i+1)\n",
    "        print(confusion_matrix(y_t[i],y_pred))\n",
    "conf_mat(proba, AUC_LR), conf_mat(proba_sm, AUC_LR_sm)"
   ]
  },
  {
   "cell_type": "markdown",
   "metadata": {},
   "source": [
    "### SVM Classifier"
   ]
  },
  {
   "cell_type": "code",
   "execution_count": 48,
   "metadata": {},
   "outputs": [],
   "source": [
    "clf = svm.SVC(decision_function_shape='ovo', probability=True)"
   ]
  },
  {
   "cell_type": "code",
   "execution_count": 49,
   "metadata": {},
   "outputs": [],
   "source": [
    "AUC_LR_sm = []\n",
    "AUC_LR = []\n",
    "proba_sm = []\n",
    "proba = []\n",
    "y_t = []\n",
    "y = df['crisisST'].values\n",
    "X = df.drop(['crisisST'], axis=1).values\n",
    "scaler = StandardScaler()\n",
    "X  = scaler.fit_transform(X)\n",
    "sm = SMOTE(0.5,random_state=42)\n",
    "tscv = TimeSeriesSplit(n_splits=n)\n",
    "for train_index, test_index in tscv.split(X):\n",
    "    X_train, X_test = X[train_index], X[test_index]\n",
    "    y_train, y_test = y[train_index], y[test_index]\n",
    "    y_t.append(y_test)\n",
    "    X_train_sm, y_train_sm = sm.fit_resample(X_train, y_train)\n",
    "    clf.fit(X_train_sm, y_train_sm)\n",
    "    y_proba1 = clf.predict_proba(X_test)\n",
    "    clf.fit(X_train, y_train)\n",
    "    y_proba = clf.predict_proba(X_test)\n",
    "    AUC_LR.append(roc_auc_score(y_test, y_proba[:,1]))\n",
    "    proba.append(list(y_proba[:,1]))\n",
    "    AUC_LR_sm.append(roc_auc_score(y_test, y_proba1[:,1]))\n",
    "    proba_sm.append(list(y_proba1[:,1]))"
   ]
  },
  {
   "cell_type": "code",
   "execution_count": 50,
   "metadata": {},
   "outputs": [
    {
     "name": "stdout",
     "output_type": "stream",
     "text": [
      "--------------------------------------------------------------------------------\n",
      "AUC Score: 0.46358438975888644\n",
      "Confusion_Matrix 1\n",
      "[[447   0]\n",
      " [ 18   0]]\n",
      "--------------------------------------------------------------------------------\n",
      "AUC Score: 0.7072645187769341\n",
      "Confusion_Matrix 2\n",
      "[[443   0]\n",
      " [ 22   0]]\n",
      "--------------------------------------------------------------------------------\n",
      "AUC Score: 0.6357629154985983\n",
      "Confusion_Matrix 3\n",
      "[[454   0]\n",
      " [ 11   0]]\n",
      "--------------------------------------------------------------------------------\n",
      "AUC Score: 0.5166542381307482\n",
      "Confusion_Matrix 1\n",
      "[[377  70]\n",
      " [ 16   2]]\n",
      "--------------------------------------------------------------------------------\n",
      "AUC Score: 0.7390211368766674\n",
      "Confusion_Matrix 2\n",
      "[[387  56]\n",
      " [ 12  10]]\n",
      "--------------------------------------------------------------------------------\n",
      "AUC Score: 0.7747296756107329\n",
      "Confusion_Matrix 3\n",
      "[[430  24]\n",
      " [  7   4]]\n"
     ]
    },
    {
     "data": {
      "text/plain": [
       "(None, None)"
      ]
     },
     "execution_count": 50,
     "metadata": {},
     "output_type": "execute_result"
    }
   ],
   "source": [
    "def conf_mat(prob, AUC):\n",
    "    for i in range(n):\n",
    "        y_pred = []\n",
    "        for j in range(len(prob[i])):\n",
    "            if prob[i][j]>0.5:\n",
    "                y_pred.append(1)\n",
    "            else: \n",
    "                y_pred.append(0)\n",
    "        print( \"-\"*80)\n",
    "        print('AUC Score:', AUC[i])\n",
    "        print('Confusion_Matrix', i+1)\n",
    "        print(confusion_matrix(y_t[i],y_pred))\n",
    "conf_mat(proba, AUC_LR), conf_mat(proba_sm, AUC_LR_sm)"
   ]
  },
  {
   "cell_type": "markdown",
   "metadata": {},
   "source": [
    "### SGD Classifier"
   ]
  },
  {
   "cell_type": "code",
   "execution_count": 51,
   "metadata": {},
   "outputs": [],
   "source": [
    "clf = SGDClassifier(loss = 'log')"
   ]
  },
  {
   "cell_type": "code",
   "execution_count": 52,
   "metadata": {},
   "outputs": [],
   "source": [
    "AUC_LR_sm = []\n",
    "AUC_LR = []\n",
    "proba_sm = []\n",
    "proba = []\n",
    "y_t = []\n",
    "y = df['crisisST'].values\n",
    "X = df.drop(['crisisST'], axis=1).values\n",
    "scaler = StandardScaler()\n",
    "X  = scaler.fit_transform(X)\n",
    "sm = SMOTE(0.5,random_state=42)\n",
    "tscv = TimeSeriesSplit(n_splits=n)\n",
    "for train_index, test_index in tscv.split(X):\n",
    "    X_train, X_test = X[train_index], X[test_index]\n",
    "    y_train, y_test = y[train_index], y[test_index]\n",
    "    y_t.append(y_test)\n",
    "    X_train_sm, y_train_sm = sm.fit_resample(X_train, y_train)\n",
    "    clf.fit(X_train_sm, y_train_sm)\n",
    "    y_proba1 = clf.predict_proba(X_test)\n",
    "    clf.fit(X_train, y_train)\n",
    "    y_proba = clf.predict_proba(X_test)\n",
    "    AUC_LR.append(roc_auc_score(y_test, y_proba[:,1]))\n",
    "    proba.append(list(y_proba[:,1]))\n",
    "    AUC_LR_sm.append(roc_auc_score(y_test, y_proba1[:,1]))\n",
    "    proba_sm.append(list(y_proba1[:,1]))"
   ]
  },
  {
   "cell_type": "code",
   "execution_count": 53,
   "metadata": {},
   "outputs": [
    {
     "name": "stdout",
     "output_type": "stream",
     "text": [
      "--------------------------------------------------------------------------------\n",
      "AUC Score: 0.5584141188168035\n",
      "Confusion_Matrix 1\n",
      "[[417  30]\n",
      " [ 17   1]]\n",
      "--------------------------------------------------------------------------------\n",
      "AUC Score: 0.6227170121075313\n",
      "Confusion_Matrix 2\n",
      "[[443   0]\n",
      " [ 22   0]]\n",
      "--------------------------------------------------------------------------------\n",
      "AUC Score: 0.6105326391670004\n",
      "Confusion_Matrix 3\n",
      "[[422  32]\n",
      " [  9   2]]\n",
      "--------------------------------------------------------------------------------\n",
      "AUC Score: 0.5584141188168033\n",
      "Confusion_Matrix 1\n",
      "[[348  99]\n",
      " [ 11   7]]\n",
      "--------------------------------------------------------------------------------\n",
      "AUC Score: 0.5697722142417402\n",
      "Confusion_Matrix 2\n",
      "[[200 243]\n",
      " [  8  14]]\n",
      "--------------------------------------------------------------------------------\n",
      "AUC Score: 0.5504605526631958\n",
      "Confusion_Matrix 3\n",
      "[[290 164]\n",
      " [  7   4]]\n"
     ]
    },
    {
     "data": {
      "text/plain": [
       "(None, None)"
      ]
     },
     "execution_count": 53,
     "metadata": {},
     "output_type": "execute_result"
    }
   ],
   "source": [
    "def conf_mat(prob, AUC):\n",
    "    for i in range(n):\n",
    "        y_pred = []\n",
    "        for j in range(len(prob[i])):\n",
    "            if prob[i][j]>0.5:\n",
    "                y_pred.append(1)\n",
    "            else: \n",
    "                y_pred.append(0)\n",
    "        print( \"-\"*80)\n",
    "        print('AUC Score:', AUC[i])\n",
    "        print('Confusion_Matrix', i+1)\n",
    "        print(confusion_matrix(y_t[i],y_pred))\n",
    "conf_mat(proba, AUC_LR), conf_mat(proba_sm, AUC_LR_sm)"
   ]
  }
 ],
 "metadata": {
  "kernelspec": {
   "display_name": "Python 3",
   "language": "python",
   "name": "python3"
  },
  "language_info": {
   "codemirror_mode": {
    "name": "ipython",
    "version": 3
   },
   "file_extension": ".py",
   "mimetype": "text/x-python",
   "name": "python",
   "nbconvert_exporter": "python",
   "pygments_lexer": "ipython3",
   "version": "3.6.5"
  }
 },
 "nbformat": 4,
 "nbformat_minor": 2
}
